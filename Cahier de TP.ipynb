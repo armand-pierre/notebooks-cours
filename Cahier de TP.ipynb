{
 "cells": [
  {
   "cell_type": "markdown",
   "id": "d7e43a76-4262-4c91-99b3-2db5ccc1abc8",
   "metadata": {},
   "source": [
    "# To-do list"
   ]
  },
  {
   "cell_type": "markdown",
   "id": "f6f1e728-9090-4fa1-8be9-903a601d43e4",
   "metadata": {},
   "source": [
    "To-do liste pour le traitement des données:\n",
    "\n",
    "1. Données\n",
    "   - Insérer les données d'observation\n",
    "   - Si nécessaire, manipuler ces données brutes pour obtenir les valeurs nettes de x et y\n",
    "2. Modélisation et régression\n",
    "   - Modéliser les données par une fonction `func`\n",
    "   - Donner une valeur initiale à chaque paramètre de la fonction\n",
    "3. Affichage des résultats et joli graphe !\n",
    "   - Donner un titre, une légende au graphique\n",
    "   - Tout exécuter\n",
    "   - Enregistrer la courbe et/ou le notebook si besoin (pour garder ou partager les résultats)\n",
    "\n",
    "Facultatif:\n",
    "\n",
    "- Ecrire un bref *Abstract* de la manipulation\n",
    "- Changer le style de la courbe ou des points sur le graphe"
   ]
  },
  {
   "cell_type": "markdown",
   "id": "20469d1a-796b-467c-bfde-6124793395f0",
   "metadata": {
    "tags": []
   },
   "source": [
    "# Abstract\n",
    "\n",
    "> Si besoin, expliquez ici brièvement la manipulation en cours...\n",
    "Vous pouvez faire un texte, mettre une ou deux formules, une image, ça fait pas de mal !\n",
    "[Voici une documentation MarkDown](https://www.markdownguide.org/cheat-sheet), pour ajouter des images, des formules en [Latex](https://fr.wikibooks.org/wiki/LaTeX/%C3%89crire_des_math%C3%A9matiques), des listes..."
   ]
  },
  {
   "cell_type": "markdown",
   "id": "c0473a58-7d46-479c-a508-343d564acaed",
   "metadata": {},
   "source": [
    "# Bibliothèques"
   ]
  },
  {
   "cell_type": "code",
   "execution_count": 1,
   "id": "98fdac39-ea70-416d-bdba-dba47927d8f7",
   "metadata": {},
   "outputs": [],
   "source": [
    "import numpy as np\n",
    "from scipy.optimize import curve_fit\n",
    "\n",
    "import matplotlib.pyplot as plt\n",
    "\n",
    "from uncertainties import ufloat\n",
    "from uncertainties.umath import *\n",
    "\n",
    "# Pour faire un peu de magie noire pythonesque...\n",
    "import inspect"
   ]
  },
  {
   "cell_type": "markdown",
   "id": "269f53af-e52f-4d5e-a6e9-db03d22d6066",
   "metadata": {},
   "source": [
    "# Programme"
   ]
  },
  {
   "cell_type": "markdown",
   "id": "e73f30ba-b6ec-4451-bfd3-d76fafb9691f",
   "metadata": {},
   "source": [
    "<a id=\"donnees\"></a>\n",
    "## Données\n",
    "\n",
    "Mettre ici tous les arrays de données:\n",
    "- \"brutes\": arrays tapées lors du TP\n",
    "- \"traitées\": arrays avec les valeurs à présenter sur le graphe\n",
    "\n",
    "On conviendra que les arrays seront appelés par leur symbole algébrique (vitesse par `v`, distance focale par `f`...) et les incertitude et ajoutant un `delta` devant."
   ]
  },
  {
   "cell_type": "code",
   "execution_count": 2,
   "id": "54464235-a64c-4c3b-a58c-fbb68407bab9",
   "metadata": {},
   "outputs": [],
   "source": [
    "# Mesures brutes\n",
    "\n",
    "\n",
    "# Mesures traitées\n",
    "x = np.linspace(2, 9, 10) + 0.1*np.random.randn(10)\n",
    "delta_x = np.full(x.shape, 0.1)\n",
    "y = 0.5 * x + 0.1*np.random.standard_normal(x.shape)\n",
    "delta_y = np.full(x.shape, 0.1)\n",
    "\n",
    "xmin, xmax = np.amin(x), np.amax(x)\n",
    "ymin, ymax = np.amin(x), np.amax(x)"
   ]
  },
  {
   "cell_type": "markdown",
   "id": "c75a3227-8932-4813-98db-e5b0d006149c",
   "metadata": {},
   "source": [
    "<a id=\"model\"></a>\n",
    "## Modélisation et régression\n",
    "\n",
    "On insère ici la fonction $y=f(x)$, où chacun des paramètres de la fonction sera noté après le `x`.\n",
    "\n",
    "(Pour faire des manipulations pratiques plus tard, on va aussi créer `noms_symboles` avec les noms de chacun des paramètres de la fonction.)"
   ]
  },
  {
   "cell_type": "code",
   "execution_count": 3,
   "id": "f49b8538-0050-4739-bd12-994505db3f38",
   "metadata": {},
   "outputs": [],
   "source": [
    "def func(x, a, b):\n",
    "    \"\"\"Fonction modélisant la courbe.\"\"\"\n",
    "    return a * x + b # Exemple avec une fonction linéaire\n",
    "\n",
    "# Cette ligne fait de la magie noire... Elle récupère les noms des paramètres de la fonction !\n",
    "noms_symboles = tuple(value.name for value in inspect.signature(func).parameters.values())\n",
    "noms_symboles = noms_symboles[1:]"
   ]
  },
  {
   "cell_type": "markdown",
   "id": "a454a7c7-70a0-4ad3-948a-2d137c3c14f0",
   "metadata": {},
   "source": [
    "On va ensuite initialiser les paramètres de la fonction avec une liste. Ils ne sont que le point de départ, donc mettre des estimations même grossières fait l'affaire."
   ]
  },
  {
   "cell_type": "code",
   "execution_count": 4,
   "id": "0722c352-be40-4557-8576-83e3e38aedd3",
   "metadata": {},
   "outputs": [],
   "source": [
    "# Donnez une valeur initiale à chaque symbole -> {\"nom\": valeur, ...}\n",
    "estimations_initiales = {\"a\": 1.2, \"b\": 0.03}\n",
    "\n",
    "params_init = np.array([estimations_initiales[nom] for nom in noms_symboles])"
   ]
  },
  {
   "cell_type": "markdown",
   "id": "45b67bde-294c-4da2-81d0-7010d7824cf6",
   "metadata": {},
   "source": [
    "C'est parti pour la régression ! La fonction `curve_fit` va utiliser les données, les incertitudes, le modèle de courbe et les estimations pour retourner les paramètres optimaux, ainsi qu'une mesure de la pertinence du modèle (la matrice de covariance).\n",
    "Cette matrice nous servira à calculer la moyenne quadratique des erreurs du modèle dans notre cas."
   ]
  },
  {
   "cell_type": "code",
   "execution_count": 5,
   "id": "29c594c2-0a56-4e5f-8230-2e050f7ede91",
   "metadata": {},
   "outputs": [],
   "source": [
    "parametres_curve, pcov_curve = curve_fit(func, x, y, p0=params_init, sigma=delta_y,absolute_sigma=True)\n",
    "std_parametres_curve = np.sqrt(np.diag(pcov_curve))\n",
    "chi_curve = np.sqrt(((func(x,*parametres_curve)-y)**2).sum()) #racine de la somme des résidus au carré\n",
    "nombre_params= len(parametres_curve)"
   ]
  },
  {
   "cell_type": "code",
   "execution_count": 6,
   "id": "e4137c74-227e-49cb-ba17-5ce9449e3dc9",
   "metadata": {},
   "outputs": [],
   "source": [
    "resultats_curve = [ufloat(parametres_curve[i],std_parametres_curve[i]) for i in range(nombre_params)]"
   ]
  },
  {
   "cell_type": "markdown",
   "id": "5d34b8ac-1a9e-4a03-ba7c-630d61313db5",
   "metadata": {},
   "source": [
    "<a id=\"graphique\"></a>\n",
    "## Affichage des résultats et joli graphe !\n",
    "\n",
    "La machine a fini de tourner, regardons ce qu'on obtient !\n",
    "Pour ça, on va afficher:\n",
    "- les paramètres trouvés par `curve_fit`\n",
    "- La moyenne quadratique des erreurs, qu'on appelera `chi` (comme la lettre $\\chi$, à ne pas confondre avec le test du Chi 2...)"
   ]
  },
  {
   "cell_type": "code",
   "execution_count": 7,
   "id": "fb67887e-1ebc-4e39-976a-cbc4f3571a70",
   "metadata": {},
   "outputs": [
    {
     "name": "stdout",
     "output_type": "stream",
     "text": [
      "a = (4.84+/-0.14)e-01\n",
      "b = (8.42+/-8.55)e-02\n",
      "Score chi: 2.17e-01\n"
     ]
    }
   ],
   "source": [
    "for i in range(nombre_params):\n",
    "    print(f'{noms_symboles[i]} = {resultats_curve[i]:.2e}')\n",
    "print(f'Score chi: {chi_curve:.2e}')"
   ]
  },
  {
   "cell_type": "markdown",
   "id": "d3bcc7f8-c487-485b-a57a-03158263261f",
   "metadata": {},
   "source": [
    "Et maintenant, traçons la courbe !"
   ]
  },
  {
   "cell_type": "code",
   "execution_count": 8,
   "id": "7346c045-13cd-40d1-921e-779d40bbcbea",
   "metadata": {},
   "outputs": [
    {
     "data": {
      "text/plain": [
       "<matplotlib.legend.Legend at 0x29564891c60>"
      ]
     },
     "execution_count": 8,
     "metadata": {},
     "output_type": "execute_result"
    },
    {
     "data": {
      "image/png": "[encoded data removed]",
      "text/plain": [
       "<Figure size 640x480 with 1 Axes>"
      ]
     },
     "metadata": {},
     "output_type": "display_data"
    }
   ],
   "source": [
    "# Un bon graphe est un graphe éloquent !\n",
    "# Donnez un titre, des légendes, les unités des axes...\n",
    "# C'est simple: si vous oubliez, vous verrez \"INSEREZ TITRE\" pour vous le rappeler !\n",
    "titre = \"INSEREZ TITRE\"\n",
    "legende_x = \"LEGENDE EN X\"\n",
    "legende_y = \"LEGENDE EN Y\"\n",
    "texte_func = \"y = f(x)\" # Ecrivez la formule de func (facultatif)\n",
    "\n",
    "# Si vous voulez changez le style... Renseignez sur les styles de graphiques Matplotlib !\n",
    "# Première lettre = couleur\n",
    "# Deuxième (faucltative): forme\n",
    "style_points = \"bo\"\n",
    "style_courbe = \"r\"\n",
    "\n",
    "legende_curve = texte_func + '\\n'\n",
    "for i in range(nombre_params):\n",
    "    legende_curve+=f'{noms_symboles[i]} = {resultats_curve[i]:.2e}\\n'\n",
    "legende_curve += f'chi= {chi_curve:.2e}'\n",
    "\n",
    "fig_curve,ax_curve = plt.subplots()\n",
    "ax_curve.cla()\n",
    "ax_curve.set_xlabel(legende_x)\n",
    "ax_curve.set_ylabel(legende_y)\n",
    "ax_curve.set_title(titre)\n",
    "ax_curve.errorbar(x,y,yerr=delta_y,xerr=delta_x,fmt=style_points,label='données',capsize=3)\n",
    "\n",
    "xfit_curve = np.linspace(xmin,xmax)\n",
    "yfit_curve = func(xfit_curve, *parametres_curve[:]) # le symbole «*» permet de déballer (\"unpack\") l'array des parametres pour appeler func()\n",
    "ax_curve.plot(xfit_curve,yfit_curve,style_courbe,label='fit')\n",
    "ax_curve.text(.9,.1,legende_curve,transform=ax_curve.transAxes,horizontalalignment='right', verticalalignment='bottom')\n",
    "\n",
    "ax_curve.legend(loc='best')"
   ]
  },
  {
   "cell_type": "markdown",
   "id": "ec508942-3c5b-42f2-90e6-7a9e9d164ca2",
   "metadata": {},
   "source": [
    "Et voilà, un beau graphique de l'expérience ! Eh, vous avez fait un beau TP dites-moi !"
   ]
  }
 ],
 "metadata": {
  "kernelspec": {
   "display_name": "Python 3 (ipykernel)",
   "language": "python",
   "name": "python3"
  },
  "language_info": {
   "codemirror_mode": {
    "name": "ipython",
    "version": 3
   },
   "file_extension": ".py",
   "mimetype": "text/x-python",
   "name": "python",
   "nbconvert_exporter": "python",
   "pygments_lexer": "ipython3",
   "version": "3.10.7"
  }
 },
 "nbformat": 4,
 "nbformat_minor": 5
}
